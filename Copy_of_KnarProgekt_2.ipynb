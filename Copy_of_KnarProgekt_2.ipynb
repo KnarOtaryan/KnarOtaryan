{
  "nbformat": 4,
  "nbformat_minor": 0,
  "metadata": {
    "colab": {
      "name": "Copy of KnarProgekt 2.ipynb",
      "private_outputs": true,
      "provenance": [],
      "collapsed_sections": [],
      "history_visible": true,
      "authorship_tag": "ABX9TyNK53ofLH4fJIPRAzI2MemQ",
      "include_colab_link": true
    },
    "kernelspec": {
      "name": "python3",
      "display_name": "Python 3"
    },
    "language_info": {
      "name": "python"
    }
  },
  "cells": [
    {
      "cell_type": "markdown",
      "metadata": {
        "id": "view-in-github",
        "colab_type": "text"
      },
      "source": [
        "<a href=\"https://colab.research.google.com/github/KnarOtaryan/KnarOtaryan/blob/main/Copy_of_KnarProgekt_2.ipynb\" target=\"_parent\"><img src=\"https://colab.research.google.com/assets/colab-badge.svg\" alt=\"Open In Colab\"/></a>"
      ]
    },
    {
      "cell_type": "markdown",
      "source": [
        "\n",
        "K-means կլաստերավորում, չվերահսկվող մեքենայական ուսուցման ալգորիթմ : Այն օգտագործվում է բազմաթիվ բարդ մեքենայական ուսուցման խնդիրներ լուծելու համար\n",
        "Այն ի վիճակի է դասակարգել չպիտակավորված տվյալները կանխորոշված ​​թվով կլաստերների մեջ՝ հիմնվելով նմանությունների վրա (k):\n"
      ],
      "metadata": {
        "id": "klHk1ClAmcu7"
      }
    },
    {
      "cell_type": "code",
      "execution_count": null,
      "metadata": {
        "id": "lWIG_Lltl2Gb"
      },
      "outputs": [],
      "source": [
        "import pandas as pd\n",
        "url = 'https://drive.google.com/file/d/1WFpZ4rj_6vawnchzWvmF8_NZnIJgETmL/view?usp=sharing'\n",
        "path = 'https://drive.google.com/uc?export=download&id=' + url.split('/')[-2]\n",
        "df= pd.read_csv(path)\n",
        "print(df)"
      ]
    },
    {
      "cell_type": "markdown",
      "source": [
        ""
      ],
      "metadata": {
        "id": "c9Wp68f8Y7By"
      }
    },
    {
      "cell_type": "code",
      "source": [
        "df.describe()"
      ],
      "metadata": {
        "id": "GD2BTX99bqn-"
      },
      "execution_count": null,
      "outputs": []
    },
    {
      "cell_type": "code",
      "source": [
        "import pandas as pd\n",
        "import numpy as np\n",
        "import matplotlib as mpl\n",
        "import matplotlib.pyplot as plt\n",
        "%matplotlib inline\n",
        "import seaborn as sns\n",
        "sns.set()\n",
        "sns.pairplot(df,height = 5 ,kind ='scatter',diag_kind='kde')\n",
        "plt.show()"
      ],
      "metadata": {
        "id": "MJp9Pvp7bz2B"
      },
      "execution_count": null,
      "outputs": []
    },
    {
      "cell_type": "markdown",
      "source": [
        "The Within Cluster Sum of Squares (WCSS) is used to calculate the variance in the data points. The goal of the algorithm is to minimize this value. Implementing K-means Clustering in Python Now, we will implement the above idea in Python using the sklearn library."
      ],
      "metadata": {
        "id": "3GXiTzx1mbX6"
      }
    },
    {
      "cell_type": "code",
      "source": [
        "from sklearn.cluster import KMeans\n",
        "wcss = []\n",
        "for i in range(1,5):\n",
        "    km = KMeans(n_clusters=i)\n",
        "    km.fit_predict(df)\n",
        "    wcss.append(km.inertia_)"
      ],
      "metadata": {
        "id": "anwknvKUrj1K"
      },
      "execution_count": null,
      "outputs": []
    },
    {
      "cell_type": "code",
      "source": [
        "wcss"
      ],
      "metadata": {
        "id": "1LrsnVULrvGH"
      },
      "execution_count": null,
      "outputs": []
    },
    {
      "cell_type": "code",
      "source": [
        "X = df.iloc[:,:].values\n",
        "km = KMeans(n_clusters =2)\n",
        "y_means = km.fit_predict(X)"
      ],
      "metadata": {
        "id": "bY4n_NTdsDAI"
      },
      "execution_count": null,
      "outputs": []
    },
    {
      "cell_type": "code",
      "source": [
        "y_means"
      ],
      "metadata": {
        "id": "tCgSHafJsI7-"
      },
      "execution_count": null,
      "outputs": []
    },
    {
      "cell_type": "markdown",
      "source": [
        "# rows in cluster no 1[0],2[1]...4[3]"
      ],
      "metadata": {
        "id": "Kd-OLxmrsM_3"
      }
    },
    {
      "cell_type": "code",
      "source": [
        "X[y_means==0]"
      ],
      "metadata": {
        "id": "VumJK4XcsNWs"
      },
      "execution_count": null,
      "outputs": []
    },
    {
      "cell_type": "code",
      "source": [
        "# first value, second value\n",
        "X[y_means==0,0],X[y_means==0,1]"
      ],
      "metadata": {
        "id": "5373HnF6sURG"
      },
      "execution_count": null,
      "outputs": []
    },
    {
      "cell_type": "markdown",
      "source": [
        "DecisionTree"
      ],
      "metadata": {
        "id": "phu3rR7nspkc"
      }
    },
    {
      "cell_type": "code",
      "source": [
        "from sklearn import tree\n",
        "x=[0,0]\n",
        "y=y_means\n",
        "clf = tree.DecisionTreeClassifier()\n",
        "clf = clf.fit(X, y)\n",
        "tree.plot_tree(clf)"
      ],
      "metadata": {
        "id": "oTlkq7zBtN0K"
      },
      "execution_count": null,
      "outputs": []
    },
    {
      "cell_type": "code",
      "source": [
        "import graphviz \n",
        "dot_data = tree.export_graphviz(clf, out_file=None) \n",
        "graph = graphviz.Source(dot_data) \n",
        "graph.render(\"stud\") "
      ],
      "metadata": {
        "id": "2OxHZyjUtT-M"
      },
      "execution_count": null,
      "outputs": []
    },
    {
      "cell_type": "code",
      "source": [
        "plt.scatter(X[y_means==0,0],X[y_means==0,1],color='red')\n",
        "plt.scatter(X[y_means==1,0],X[y_means==1,1],color='blue')\n",
        "plt.scatter(X[y_means==2,0],X[y_means==2,1],color='yellow')\n",
        "plt.scatter(X[y_means==3,0],X[y_means==3,1],color='green')\n",
        "plt.xlabel('CPGA')\n",
        "plt.ylabel('IQ')"
      ],
      "metadata": {
        "id": "oPQ0nbuKtt-z"
      },
      "execution_count": null,
      "outputs": []
    },
    {
      "cell_type": "markdown",
      "source": [
        "Correlation Data Analysis\n",
        " կատարել հարաբերական վերլուծություն,աշակերտի  միջին գնահատականների և IQ-ի արժեքով։ "
      ],
      "metadata": {
        "id": "SKUO36FkwlpB"
      }
    },
    {
      "cell_type": "code",
      "source": [
        "from sklearn.neighbors import KNeighborsRegressor\n",
        "from sklearn.preprocessing import StandardScaler\n",
        "from sklearn.model_selection import train_test_split, KFold, GridSearchCV\n",
        "from sklearn.linear_model import LinearRegression, ElasticNet\n",
        "from sklearn.metrics import mean_absolute_error, mean_squared_error, mean_squared_log_error\n",
        "import xgboost as xgb\n",
        "from sklearn.ensemble import RandomForestRegressor"
      ],
      "metadata": {
        "id": "mKL0QiUsydtZ"
      },
      "execution_count": null,
      "outputs": []
    },
    {
      "cell_type": "code",
      "source": [
        "X_train, X_test, y_train, y_test=train_test_split(df,y,test_size=0.2,random_state=42)"
      ],
      "metadata": {
        "id": "5bQtwVIqyqhL"
      },
      "execution_count": null,
      "outputs": []
    },
    {
      "cell_type": "code",
      "source": [
        "models = [RandomForestRegressor(), LinearRegression(),ElasticNet(), KNeighborsRegressor(),xgb.XGBRegressor()]\n",
        "scores = dict()\n",
        "\n",
        "for m in models:\n",
        "    m.fit(X_train, y_train)\n",
        "    y_pred = m.predict(X_test)\n",
        "\n",
        "    print(f'model: {str(m)}')\n",
        "    print(f'RMSE: {mean_squared_error(y_test,y_pred)}')\n",
        "    print(f'MAE: {mean_absolute_error(y_test, y_pred)}')\n",
        "    print('-'*30, '\\n')"
      ],
      "metadata": {
        "id": "zqjz5lJEzCVw"
      },
      "execution_count": null,
      "outputs": []
    },
    {
      "cell_type": "code",
      "source": [
        "import numpy as np\n",
        "from sklearn.linear_model import LinearRegression\n",
        "lin_reg = LinearRegression()\n",
        "x = np.array(df.cgpa.values.reshape(-1,1))\n",
        "y = np.array(df.iq.values.reshape(-1,1))\n",
        "x.shape\n",
        "y.shape\n",
        "lin_reg.fit(x ,y)"
      ],
      "metadata": {
        "id": "7qKQ-2KCVjnw"
      },
      "execution_count": null,
      "outputs": []
    },
    {
      "cell_type": "code",
      "source": [
        "b0 = lin_reg.intercept_\n",
        "b0"
      ],
      "metadata": {
        "id": "RANhV9giPgx4"
      },
      "execution_count": null,
      "outputs": []
    },
    {
      "cell_type": "code",
      "source": [
        "b1 = lin_reg.coef_\n",
        "b1"
      ],
      "metadata": {
        "id": "KPahGNWXPkUO"
      },
      "execution_count": null,
      "outputs": []
    },
    {
      "cell_type": "code",
      "source": [
        "#LinearRegression"
      ],
      "metadata": {
        "id": "aF03sZNaPpIE"
      },
      "execution_count": null,
      "outputs": []
    },
    {
      "cell_type": "markdown",
      "source": [
        "y = b0 + b1 * x\n"
      ],
      "metadata": {
        "id": "w1wEKlA7P0U3"
      }
    },
    {
      "cell_type": "code",
      "source": [
        ""
      ],
      "metadata": {
        "id": "-zn_3dvITQaR"
      },
      "execution_count": null,
      "outputs": []
    },
    {
      "cell_type": "code",
      "source": [
        "x_train, x_test, y_train, y_test = train_test_split(x,y, test_size = 0.2, random_state = 0)"
      ],
      "metadata": {
        "id": "_cBFwO_STX_R"
      },
      "execution_count": null,
      "outputs": []
    },
    {
      "cell_type": "code",
      "source": [
        "reg = LinearRegression()\n",
        "reg.fit(x_train, y_train)"
      ],
      "metadata": {
        "id": "T11bTx6pTaWf"
      },
      "execution_count": null,
      "outputs": []
    },
    {
      "cell_type": "code",
      "source": [
        "y_pred = reg.predict(x_test)\n",
        "print(reg.intercept_)\n",
        "\n",
        "#Slope\n",
        "print(reg.coef_)"
      ],
      "metadata": {
        "id": "KaVrFsJPToJ9"
      },
      "execution_count": null,
      "outputs": []
    },
    {
      "cell_type": "code",
      "source": [
        "plt.scatter(x_test, y_test, color=\"green\")\n",
        "\n",
        "#plot show us the slope(/)\n",
        "#this red line is prediction line(wow so beautiful :)\n",
        "\n",
        "plt.plot(x_test,y_pred, color=\"red\")\n",
        "plt.show()"
      ],
      "metadata": {
        "id": "vWiJZe-KTyeE"
      },
      "execution_count": null,
      "outputs": []
    },
    {
      "cell_type": "code",
      "source": [
        "from sklearn import metrics\n",
        "print(\"Mean Absolute Error: \", metrics.mean_absolute_error(y_test, y_pred))\n",
        "print(\"Mean Squared Error: \", metrics.mean_squared_error(y_test, y_pred))\n",
        "print(\"Root Mean Squared Error: \", np.sqrt(metrics.mean_squared_error(y_test, y_pred)))\n",
        "print(\"R2 Score: \", metrics.r2_score(y_test, y_pred))\n"
      ],
      "metadata": {
        "id": "Q-fcVje9UaEY"
      },
      "execution_count": null,
      "outputs": []
    },
    {
      "cell_type": "code",
      "source": [
        "a = x_train\n",
        "b = y_train\n",
        "c = x_test\n",
        "d = y_pred\n",
        "plt.scatter(a,b)\n",
        "plt.scatter(c,d)\n",
        "plt.xlabel(\"\")\n",
        "plt.ylabel(\"Scores\")\n",
        "plt.grid()"
      ],
      "metadata": {
        "id": "7z48aVAEVFd2"
      },
      "execution_count": null,
      "outputs": []
    },
    {
      "cell_type": "code",
      "source": [
        "y_pred"
      ],
      "metadata": {
        "id": "ZbFHe-6eWWxj"
      },
      "execution_count": null,
      "outputs": []
    },
    {
      "cell_type": "markdown",
      "source": [
        " Visualizing Numeric Features"
      ],
      "metadata": {
        "id": "aiz9XViEKnYa"
      }
    },
    {
      "cell_type": "markdown",
      "source": [
        "hh"
      ],
      "metadata": {
        "id": "39jHBiWiY-zu"
      }
    },
    {
      "cell_type": "code",
      "source": [
        "import pandas as pd\n",
        "url='https://drive.google.com/file/d/1lelbPfddd2YAQqGZdvGB6ppgr0f1fHQ2/view?usp=sharing'\n",
        "p='https://drive.google.com/uc?export=download&id=' + url.split('/')[-2]\n",
        "d= pd.read_csv(p)\n",
        "print(d)"
      ],
      "metadata": {
        "id": "6Ja9DYcIY_2C"
      },
      "execution_count": null,
      "outputs": []
    },
    {
      "cell_type": "code",
      "source": [
        "d.describe()"
      ],
      "metadata": {
        "id": "4z3typcDxf76"
      },
      "execution_count": null,
      "outputs": []
    },
    {
      "cell_type": "markdown",
      "source": [
        "վերլուծել, թե ինչպես են ազդում միավորները  հիմնված տարբեր փոփոխականների վրա, որոնք ներառում են   սեռ, մրցավազք, ճաշ, թեստի նախապատրաստման դասընթաց "
      ],
      "metadata": {
        "id": "dxrcmZM_78w3"
      }
    },
    {
      "cell_type": "code",
      "source": [
        "d['Total score']=d['math score']+d['reading score']+d['writing score']"
      ],
      "metadata": {
        "id": "3ukkKUzv8FKW"
      },
      "execution_count": null,
      "outputs": []
    },
    {
      "cell_type": "code",
      "source": [
        "print(d['Total score'])"
      ],
      "metadata": {
        "id": "F2TDFyUtdnOt"
      },
      "execution_count": null,
      "outputs": []
    },
    {
      "cell_type": "code",
      "source": [
        "d.head(8).T"
      ],
      "metadata": {
        "id": "Ye7-841n8VU3"
      },
      "execution_count": null,
      "outputs": []
    },
    {
      "cell_type": "markdown",
      "source": [
        "# Converting score from int --> float"
      ],
      "metadata": {
        "id": "IAiCsY_p8ZG8"
      }
    },
    {
      "cell_type": "code",
      "source": [
        "d['math score']=pd.to_numeric(d['math score'],downcast='float')"
      ],
      "metadata": {
        "id": "q9B1pv8A8uhM"
      },
      "execution_count": null,
      "outputs": []
    },
    {
      "cell_type": "code",
      "source": [
        "import numpy as np\n",
        "print(\"Average math score is    : {}\".format(np.mean(d['math score'])))\n",
        "print(\"Average reading score is : {}\".format(np.mean(d['reading score'])))\n",
        "print(\"Average writing score is : {}\".format(np.mean(d['writing score'])))\n",
        "print(\"Average total score is   : {}\".format(np.mean(d['Total score'])/3))"
      ],
      "metadata": {
        "id": "-4W7VAxh8-je"
      },
      "execution_count": null,
      "outputs": []
    },
    {
      "cell_type": "markdown",
      "source": [
        "Below I will change each value and show how things change"
      ],
      "metadata": {
        "id": "jPT_S3__9e9G"
      }
    },
    {
      "cell_type": "code",
      "source": [
        "%config InlineBackend.figure_format = 'retina'"
      ],
      "metadata": {
        "id": "GqomYGOxqrQh"
      },
      "execution_count": null,
      "outputs": []
    },
    {
      "cell_type": "code",
      "source": [
        "import matplotlib.pyplot as plt\n",
        "import seaborn as sns\n",
        "plt.rcParams['figure.facecolor'] = \"#e6ecff\"\n",
        "plt.rcParams['axes.facecolor'] = \"#e6ecff\"\n",
        "plt.figure(figsize=(14,8))\n",
        "plt.subplot(1, 3, 1)\n",
        "sns.barplot(x='test preparation course',y='math score',data=d,hue='gender',palette='seismic',**{'hatch':'*','alpha':0.6,'linewidth':2})\n",
        "plt.title('MATH SCORES')\n",
        "plt.subplot(1, 3, 2)\n",
        "sns.barplot(x='test preparation course',y='reading score',data=d,hue='gender',palette='seismic',**{'hatch':'.','alpha':0.8,'linewidth':2})\n",
        "plt.title('READING SCORES')\n",
        "plt.subplot(1, 3, 3)\n",
        "sns.barplot(x='test preparation course',y='writing score',data=d,hue='gender',palette='seismic',**{'hatch':'x','linewidth':2})\n",
        "plt.title('WRITING SCORES')\n",
        "plt.show()"
      ],
      "metadata": {
        "id": "e8eliuEW9f59"
      },
      "execution_count": null,
      "outputs": []
    },
    {
      "cell_type": "markdown",
      "source": [
        "վերոնշյալ գրաֆիկից պարզ է դառնում, որ բոլոր միավորները միմյանց հետ գծային աճում են։"
      ],
      "metadata": {
        "id": "FcBs3-Bj_lop"
      }
    },
    {
      "cell_type": "markdown",
      "source": [
        "The above plot shows in depth how people score from different groups.\n",
        "խորությամբ ցույց է տալիս, թե ինչպես են մարդիկ միավորներ վաստակում տարբեր խմբերից:"
      ],
      "metadata": {
        "id": "mlUeWIp0AI6d"
      }
    },
    {
      "cell_type": "code",
      "source": [
        "plt.rcParams['figure.facecolor'] = \"#ffffe6\"\n",
        "plt.rcParams['axes.facecolor'] = \"#ffffe6\"\n",
        "plt.figure(figsize=(12,6))\n",
        "plt.title('PARENTS LEVEL OF EDUCATION')\n",
        "sns.countplot(x='parental level of education',data=d,palette='inferno')\n",
        "plt.tight_layout()"
      ],
      "metadata": {
        "id": "36czRRNDAVUk"
      },
      "execution_count": null,
      "outputs": []
    },
    {
      "cell_type": "code",
      "source": [
        "d[(d['math score'] > 90) & (d['reading score'] > 90) & (d['writing score']>90)]\\\n",
        ".sort_values(by=['Total score'],ascending=False)"
      ],
      "metadata": {
        "id": "zAd_LdKOAjUb"
      },
      "execution_count": null,
      "outputs": []
    },
    {
      "cell_type": "code",
      "source": [
        "corr = d.corr()\n",
        "mask = np.zeros_like(corr)\n",
        "mask[np.triu_indices_from(mask)] = True\n",
        "with sns.axes_style(\"white\"):\n",
        "    f, ax = plt.subplots(figsize=(8, 8))\n",
        "    ax = sns.heatmap(corr,mask=mask,square=True,linewidths=.8,cmap=\"autumn\",annot=True)"
      ],
      "metadata": {
        "id": "33CTjpUQBnZE"
      },
      "execution_count": null,
      "outputs": []
    },
    {
      "cell_type": "code",
      "source": [
        "d.columns.unique()"
      ],
      "metadata": {
        "id": "r9sn28mWGPCV"
      },
      "execution_count": null,
      "outputs": []
    },
    {
      "cell_type": "code",
      "source": [
        "d.columns.value_counts"
      ],
      "metadata": {
        "id": "hAUU5jK6Is6M"
      },
      "execution_count": null,
      "outputs": []
    },
    {
      "cell_type": "code",
      "source": [
        "columns1={'gender':'gender','race/ethnicity':'race','parental level of education':'parent_ed_level','lunch':'lunch_type','test preparation course':'test_prep','math score':'math','reading score':'reading','writing score':'writing'}\n",
        "d.rename(columns=columns1,inplace=True)"
      ],
      "metadata": {
        "id": "w6UHiDrCGSdR"
      },
      "execution_count": null,
      "outputs": []
    },
    {
      "cell_type": "code",
      "source": [
        "d['parent_ed_level']=d['parent_ed_level'].replace(['some high school'],'high school')\n",
        "d['parent_ed_level'].unique()"
      ],
      "metadata": {
        "id": "3GPhUj8AGrWb"
      },
      "execution_count": null,
      "outputs": []
    },
    {
      "cell_type": "code",
      "source": [
        "d['lunch_type']=d['lunch_type'].replace(['free/reduced'],'reduced')\n",
        "d.head()"
      ],
      "metadata": {
        "id": "YerVt7siG0QQ"
      },
      "execution_count": null,
      "outputs": []
    },
    {
      "cell_type": "code",
      "source": [
        "d.info()"
      ],
      "metadata": {
        "id": "lIR-ElALIpQO"
      },
      "execution_count": null,
      "outputs": []
    },
    {
      "cell_type": "code",
      "source": [
        "plt.figure(figsize=(8,5))\n",
        "plt.xticks(rotation=45)\n",
        "sns.countplot(x='race',data=d,order=['group C','group D',\"group B\",\"group E\",\"group A\"])"
      ],
      "metadata": {
        "id": "YfMf81RQJD2U"
      },
      "execution_count": null,
      "outputs": []
    },
    {
      "cell_type": "markdown",
      "source": [
        "mr"
      ],
      "metadata": {
        "id": "qksDbVGMlndS"
      }
    },
    {
      "cell_type": "code",
      "source": [
        "def hue(a,b):\n",
        "    plt.figure(figsize=(8,5))\n",
        "    if a=='parent_ed_level':\n",
        "        plt.xticks(rotation=45)\n",
        "    sns.countplot(x=a,data=d,hue=b)"
      ],
      "metadata": {
        "id": "LzuFCu80lo7Y"
      },
      "execution_count": null,
      "outputs": []
    },
    {
      "cell_type": "code",
      "source": [
        "hue('parent_ed_level','gender')"
      ],
      "metadata": {
        "id": "OiiuBLVylrcK"
      },
      "execution_count": null,
      "outputs": []
    },
    {
      "cell_type": "markdown",
      "source": [
        ""
      ],
      "metadata": {
        "id": "SkACXkpOl4Zr"
      }
    },
    {
      "cell_type": "code",
      "source": [
        "hue('parent_ed_level','race')"
      ],
      "metadata": {
        "id": "zu5drLiul4mB"
      },
      "execution_count": null,
      "outputs": []
    },
    {
      "cell_type": "markdown",
      "source": [
        "boxplot"
      ],
      "metadata": {
        "id": "kRswpXINmAYN"
      }
    },
    {
      "cell_type": "code",
      "source": [
        "import matplotlib.pyplot as plt \n",
        "plt.scatter(d['reading'],d['writing'],d['math'])"
      ],
      "metadata": {
        "id": "XHdN4cD9wnFv"
      },
      "execution_count": null,
      "outputs": []
    },
    {
      "cell_type": "code",
      "source": [
        "from sklearn.model_selection import train_test_split #Import package\n",
        "X = d[[\"reading\", \"writing\"]]\n",
        "y = d[\"math\"]\n",
        "X_train, X_test, y_train, y_test = train_test_split(X, y, test_size=0.2)\n",
        "y_train.head()"
      ],
      "metadata": {
        "id": "vElbSXYozptc"
      },
      "execution_count": null,
      "outputs": []
    },
    {
      "cell_type": "markdown",
      "source": [
        "aaa"
      ],
      "metadata": {
        "id": "W-5k2_l_Kl01"
      }
    },
    {
      "cell_type": "code",
      "source": [
        ""
      ],
      "metadata": {
        "id": "NwR_Fjrw0JIH"
      },
      "execution_count": null,
      "outputs": []
    },
    {
      "cell_type": "code",
      "source": [
        "from sklearn.model_selection import train_test_split #Import package\n",
        "X = d[[\"reading\", \"writing\"]]\n",
        "y = d[\"math\"]\n",
        "X_train, X_test, y_train, y_test = train_test_split(X, y, test_size=0.2)\n",
        "y_train.head()"
      ],
      "metadata": {
        "id": "YFfkRN_h1Fp_"
      },
      "execution_count": null,
      "outputs": []
    },
    {
      "cell_type": "code",
      "source": [
        ""
      ],
      "metadata": {
        "id": "h-r8zZGQ2a5g"
      },
      "execution_count": null,
      "outputs": []
    },
    {
      "cell_type": "code",
      "source": [
        "from sklearn.model_selection import train_test_split #Import package\n",
        "X = d[[\"reading\", \"writing\"]]\n",
        "y = d[\"math\"]\n",
        "X_train, X_test, y_train, y_test = train_test_split(X, y, test_size=0.2)\n",
        "y_train.head()"
      ],
      "metadata": {
        "id": "Mbzs2vmT0uyR"
      },
      "execution_count": null,
      "outputs": []
    },
    {
      "cell_type": "code",
      "source": [
        "from sklearn.tree import DecisionTreeClassifier\n",
        "from sklearn import tree\n",
        "\n",
        "ml_model = tree.DecisionTreeClassifier(max_leaf_nodes=8, class_weight='balanced')\n",
        "ml_model.fit(X_train, y_train)"
      ],
      "metadata": {
        "id": "tYzpk8zkL_ed"
      },
      "execution_count": null,
      "outputs": []
    },
    {
      "cell_type": "code",
      "execution_count": null,
      "metadata": {
        "id": "fg-ccLg2IMHA"
      },
      "outputs": [],
      "source": [
        "y=['math']\n",
        "x = d.drop('math', axis=1)"
      ]
    },
    {
      "cell_type": "code",
      "source": [
        "print(y)\n"
      ],
      "metadata": {
        "id": "fGIOzqR9fda8"
      },
      "execution_count": null,
      "outputs": []
    },
    {
      "cell_type": "code",
      "source": [
        "import matplotlib.pyplot as plt\n",
        "from sklearn.tree import plot_tree\n",
        "\n",
        "plt.figure(figsize=(15,9))\n",
        "\n",
        "\n",
        "plot_tree(ml_model, rounded = True, filled = True)"
      ],
      "metadata": {
        "id": "lJxvqkSA17uZ"
      },
      "execution_count": null,
      "outputs": []
    },
    {
      "cell_type": "code",
      "source": [
        "from sklearn.tree import DecisionTreeClassifier\n",
        "clf_en = DecisionTreeClassifier(criterion='entropy', max_depth=3, random_state=0)\n",
        "clf_en.fit(X_train, y_train)\n",
        "y_pred_en = clf_en.predict(X_test)"
      ],
      "metadata": {
        "id": "abnxJtmByqGn"
      },
      "execution_count": null,
      "outputs": []
    },
    {
      "cell_type": "code",
      "source": [
        "from sklearn.metrics import accuracy_score\n",
        "print('Model accuracy score with criterion entropy: {0:0.4f}'. format(accuracy_score(y_test, y_pred_en)))\n",
        "y_pred_train_en = clf_en.predict(X_train)\n",
        "y_pred_train_en\n",
        "plt.figure(figsize=(12,8))\n",
        "from sklearn import tree\n",
        "tree.plot_tree(clf_en.fit(X_train, y_train))"
      ],
      "metadata": {
        "id": "WomoupwQyzCF"
      },
      "execution_count": null,
      "outputs": []
    },
    {
      "cell_type": "code",
      "source": [
        "\n",
        "plt.rcParams['axes.facecolor'] = \"#ffe5e5\"\n",
        "plt.rcParams['figure.facecolor'] = \"#ff75e5\"\n",
        "sns.pairplot(data=d,hue='gender',plot_kws={'alpha':0.8},palette='hot_r')\n"
      ],
      "metadata": {
        "id": "fdH7o3Jc-ezb"
      },
      "execution_count": null,
      "outputs": []
    },
    {
      "cell_type": "code",
      "source": [
        "import numpy as np \n",
        "import pandas as pd\n",
        "import seaborn as sns \n",
        "import matplotlib.pyplot as plt\n",
        "import warnings\n",
        "warnings.filterwarnings('ignore')\n",
        "import networkx as nx"
      ],
      "metadata": {
        "id": "HlftLC0e7J5R"
      },
      "execution_count": null,
      "outputs": []
    },
    {
      "cell_type": "code",
      "source": [
        "#finding mutual relationship or connection between two or more variables\n",
        "\n",
        "correlation = d.corr()\n",
        "sns.heatmap(correlation,xticklabels=correlation.columns,yticklabels=correlation.columns,annot=True)"
      ],
      "metadata": {
        "id": "0LREarID-uP1"
      },
      "execution_count": null,
      "outputs": []
    },
    {
      "cell_type": "code",
      "source": [
        "sns.pairplot(d)"
      ],
      "metadata": {
        "id": "4A2S6uQ__G4K"
      },
      "execution_count": null,
      "outputs": []
    },
    {
      "cell_type": "markdown",
      "source": [
        ""
      ],
      "metadata": {
        "id": "socGfrwM_rhn"
      }
    },
    {
      "cell_type": "code",
      "source": [
        "sns.distplot(d[\"math\"])"
      ],
      "metadata": {
        "id": "JwMxVD8QAKKR"
      },
      "execution_count": null,
      "outputs": []
    },
    {
      "cell_type": "code",
      "source": [
        "sns.distplot(d['reading'])"
      ],
      "metadata": {
        "id": "yLE3uG61CS-F"
      },
      "execution_count": null,
      "outputs": []
    },
    {
      "cell_type": "code",
      "source": [
        "sns.distplot(d['writing'])"
      ],
      "metadata": {
        "id": "-jbfU1ewCe9F"
      },
      "execution_count": null,
      "outputs": []
    },
    {
      "cell_type": "code",
      "source": [
        "sns.catplot(x='math',kind='box',data=d)\n",
        "sns.catplot(x='reading',kind='box',data=d)\n",
        "sns.catplot(x='writing',kind='box',data=d)"
      ],
      "metadata": {
        "id": "ytR2HrVPCkmz"
      },
      "execution_count": null,
      "outputs": []
    },
    {
      "cell_type": "code",
      "source": [
        "sns.relplot(x='math',y='reading',hue='gender',data=d)"
      ],
      "metadata": {
        "id": "VQUV1ENnDTf_"
      },
      "execution_count": null,
      "outputs": []
    },
    {
      "cell_type": "code",
      "source": [
        "dt = DecisionTreeClassifier(criterion=\"entropy\")\n",
        "\n",
        "dt.fit(X_train, y_train)"
      ],
      "metadata": {
        "id": "tRKnv7MpLbE0"
      },
      "execution_count": null,
      "outputs": []
    },
    {
      "cell_type": "code",
      "source": [
        "wcss = []\n",
        "for i in range(1,21):\n",
        "    km = KMeans(n_clusters=i)\n",
        "    km.fit_predict(X)\n",
        "    wcss.append(km.inertia_)"
      ],
      "metadata": {
        "id": "So5T8WSPCC7K"
      },
      "execution_count": null,
      "outputs": []
    },
    {
      "cell_type": "code",
      "source": [
        "wcss"
      ],
      "metadata": {
        "id": "qk_Ww_pHCJxm"
      },
      "execution_count": null,
      "outputs": []
    },
    {
      "cell_type": "code",
      "source": [
        "plt.plot(range(1,21),wcss)\n",
        "plt.grid()"
      ],
      "metadata": {
        "id": "zZEtwb9PCMtk"
      },
      "execution_count": null,
      "outputs": []
    },
    {
      "cell_type": "code",
      "source": [
        "from sklearn.datasets import make_blobs\n",
        "centroids = [(-5,-5,5),(5,5,-5),(3.5,-2.5,4),(-2.5,2.5,-4)]\n",
        "cluster_std =[1,1,1,1]\n",
        "X,y = make_blobs(n_samples=200,cluster_std=cluster_std,centers=centroids,n_features=3,random_state=1)"
      ],
      "metadata": {
        "id": "qR2mec2SE694"
      },
      "execution_count": null,
      "outputs": []
    },
    {
      "cell_type": "code",
      "source": [
        "import plotly.express as px\n",
        "fig = px.scatter_3d(x=X[:,0],y=X[:,1],z=X[:,2])\n",
        "fig.show()"
      ],
      "metadata": {
        "id": "lkHolfK2E9hU"
      },
      "execution_count": null,
      "outputs": []
    },
    {
      "cell_type": "code",
      "source": [
        "wcss = []\n",
        "for i in range(1,21):\n",
        "    km = KMeans(n_clusters=i)\n",
        "    km.fit_predict(X)\n",
        "    wcss.append(km.inertia_)\n",
        "    "
      ],
      "metadata": {
        "id": "quD_jDNRFFDa"
      },
      "execution_count": null,
      "outputs": []
    },
    {
      "cell_type": "code",
      "source": [
        "wcss"
      ],
      "metadata": {
        "id": "m8gaCG9nFLEP"
      },
      "execution_count": null,
      "outputs": []
    },
    {
      "cell_type": "code",
      "source": [
        "plt.plot(range(1,21),wcss)\n",
        "plt.grid()"
      ],
      "metadata": {
        "id": "bjwMtIH0FPzb"
      },
      "execution_count": null,
      "outputs": []
    },
    {
      "cell_type": "code",
      "source": [
        "km = KMeans(n_clusters=4)\n",
        "y_pred = km.fit_predict(X)"
      ],
      "metadata": {
        "id": "HXbBo78vFX9a"
      },
      "execution_count": null,
      "outputs": []
    },
    {
      "cell_type": "code",
      "source": [
        "df = pd.DataFrame()\n",
        "df['col1'] = X[:,0]\n",
        "df['col2'] = X[:,1]\n",
        "df['col3'] = X[:,2]\n",
        "df['label'] = y_pred"
      ],
      "metadata": {
        "id": "QXlFdEiaFfHO"
      },
      "execution_count": null,
      "outputs": []
    },
    {
      "cell_type": "code",
      "source": [
        "fig = px.scatter_3d(df,x='col1',y='col2',z='col3',color='label')\n",
        "fig.show()"
      ],
      "metadata": {
        "id": "39dp9nXYFi7u"
      },
      "execution_count": null,
      "outputs": []
    }
  ]
}