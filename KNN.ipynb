{
  "nbformat": 4,
  "nbformat_minor": 0,
  "metadata": {
    "colab": {
      "name": "KNN.ipynb",
      "private_outputs": true,
      "provenance": [],
      "collapsed_sections": [],
      "authorship_tag": "ABX9TyOf4zzMBgf10BHfk6emLmEi",
      "include_colab_link": true
    },
    "kernelspec": {
      "name": "python3",
      "display_name": "Python 3"
    },
    "language_info": {
      "name": "python"
    }
  },
  "cells": [
    {
      "cell_type": "markdown",
      "metadata": {
        "id": "view-in-github",
        "colab_type": "text"
      },
      "source": [
        "<a href=\"https://colab.research.google.com/github/KnarOtaryan/KnarOtaryan/blob/main/KNN.ipynb\" target=\"_parent\"><img src=\"https://colab.research.google.com/assets/colab-badge.svg\" alt=\"Open In Colab\"/></a>"
      ]
    },
    {
      "cell_type": "markdown",
      "source": [
        "*KNN*Python implementation:\n",
        "Implementation of the K Nearest Neighbor algorithm using Python’s scikit-learn library:\n",
        "Step 1: Get and prepare data"
      ],
      "metadata": {
        "id": "388NobpOblBk"
      }
    },
    {
      "cell_type": "code",
      "source": [
        "import pandas as pd\n",
        "import numpy as np\n",
        "import matplotlib.pyplot as plt\n",
        "from sklearn.datasets import make_classification\n",
        "from sklearn.model_selection import train_test_split\n",
        "from sklearn.preprocessing import StandardScaler\n",
        "from sklearn.neighbors import KNeighborsClassifier \n",
        "from sklearn import metrics"
      ],
      "metadata": {
        "id": "bgoarRRmbnlz"
      },
      "execution_count": null,
      "outputs": []
    },
    {
      "cell_type": "markdown",
      "source": [
        "Կարևոր գրադարանները բեռնելուց հետո մենք ստեղծում ենք մեր տվյալները՝ օգտագործելով sklearn.datasets՝ 200 նմուշներով, 8 առանձնահատկություններով և 2 դասերով: Այնուհետև տվյալները բաժանվում են  (80%) և թեստային (20%) տվյալների և մասշտաբվում են StandardScaler-ի միջոցով:"
      ],
      "metadata": {
        "id": "Dku7l6ugdNCB"
      }
    },
    {
      "cell_type": "code",
      "source": [
        "X,Y=make_classification(n_samples= 200,n_features=8,n_informative=8,n_redundant=0,n_repeated=0,n_classes=2,random_state=14)\n",
        "X_train, X_test, y_train, y_test= train_test_split(X, Y, test_size= 0.2,random_state=32)\n",
        "sc= StandardScaler()\n",
        "sc.fit(X_train)\n",
        "X_train= sc.transform(X_train)\n",
        "sc.fit(X_test)\n",
        "X_test= sc.transform(X_test)\n",
        "X.shape"
      ],
      "metadata": {
        "id": "g5rmEIEYbvWI"
      },
      "execution_count": null,
      "outputs": []
    },
    {
      "cell_type": "markdown",
      "source": [
        "Քայլ 2. Գտնեք K-ի արժեքը\n",
        "K արժեքը ընտրելու համար մենք օգտագործում ենք սխալի կորեր և K արժեքը՝ օպտիմալ շեղումով և կողմնակալությամբը նտրված է սխալ որպես K արժեք՝ կանխատեսման նպատակով:\n",
        "Ստորև ներկայացված սխալի կորի դեպքում կանխատեսման համար ընտրում ենք K=7"
      ],
      "metadata": {
        "id": "hdVThDMadRE9"
      }
    },
    {
      "cell_type": "code",
      "source": [
        "error1= []\n",
        "error2= []\n",
        "for k in range(1,25):\n",
        "    knn= KNeighborsClassifier(n_neighbors=k)\n",
        "    knn.fit(X_train,y_train)\n",
        "    y_pred1= knn.predict(X_train)\n",
        "    error1.append(np.mean(y_train!= y_pred1))\n",
        "    y_pred2= knn.predict(X_test)\n",
        "    error2.append(np.mean(y_test!= y_pred2))\n",
        "# plt.figure(figsize(10,5))\n",
        "plt.plot(range(1,25),error1,label=\"train\")\n",
        "plt.plot(range(1,25),error2,label=\"test\")\n",
        "plt.xlabel('k Value')\n",
        "plt.ylabel('Error')"
      ],
      "metadata": {
        "id": "x1biAYfwb4v4"
      },
      "execution_count": null,
      "outputs": []
    },
    {
      "cell_type": "markdown",
      "source": [
        "Քայլ 3. Կանխատեսել.\n",
        "Քայլ 2-ում մենք ընտրել ենք K-ի արժեքը 7-ի համար: Այժմ մենք փոխարինում ենք այդ արժեքը և ստանում ենք ճշտության միավոր = 0,9 թեստի տվյալների համար:\n"
      ],
      "metadata": {
        "id": "IMufaY23dQSs"
      }
    },
    {
      "cell_type": "code",
      "source": [
        "knn= KNeighborsClassifier(n_neighbors=7)\n",
        "knn.fit(X_train,y_train)\n",
        "y_pred= knn.predict(X_test)\n",
        "metrics.accuracy_score(y_test,y_pred)"
      ],
      "metadata": {
        "id": "q59t6K14ecke"
      },
      "execution_count": null,
      "outputs": []
    },
    {
      "cell_type": "markdown",
      "source": [
        "Student_Performance_KNN_Gender_Classification"
      ],
      "metadata": {
        "id": "y52yHyCvi_CD"
      }
    },
    {
      "cell_type": "code",
      "source": [
        "import numpy as np\n",
        "import pandas as pd"
      ],
      "metadata": {
        "id": "DjYzYGL-jAar"
      },
      "execution_count": null,
      "outputs": []
    },
    {
      "cell_type": "code",
      "source": [
        "from sklearn.neighbors import KDTree"
      ],
      "metadata": {
        "id": "l093VOaqBJHo"
      },
      "execution_count": null,
      "outputs": []
    },
    {
      "cell_type": "code",
      "source": [
        "import pandas as pd\n",
        "url='https://drive.google.com/file/d/1lelbPfddd2YAQqGZdvGB6ppgr0f1fHQ2/view?usp=sharing'\n",
        "p='https://drive.google.com/uc?export=download&id=' + url.split('/')[-2]\n",
        "df= pd.read_csv(p)\n",
        "print(df)"
      ],
      "metadata": {
        "id": "G6iEpdVDjHet"
      },
      "execution_count": null,
      "outputs": []
    },
    {
      "cell_type": "code",
      "source": [
        "df=df[[\"gender\",\"math score\",\"reading score\",\"writing score\"]]\n",
        "df.head()"
      ],
      "metadata": {
        "id": "n84Uk7PrkKak"
      },
      "execution_count": null,
      "outputs": []
    },
    {
      "cell_type": "code",
      "source": [
        "df=pd.get_dummies(df,columns=[\"gender\"])"
      ],
      "metadata": {
        "id": "1_D1zKnvm30W"
      },
      "execution_count": null,
      "outputs": []
    },
    {
      "cell_type": "code",
      "source": [
        "df.head()"
      ],
      "metadata": {
        "id": "lX0_0qyEm6IQ"
      },
      "execution_count": null,
      "outputs": []
    },
    {
      "cell_type": "code",
      "source": [
        "df=df.rename(columns={\"gender_female\":\"gender\"})"
      ],
      "metadata": {
        "id": "cqJDCzD2lfHf"
      },
      "execution_count": null,
      "outputs": []
    },
    {
      "cell_type": "code",
      "source": [
        "df.drop([\"gender_male\"],axis=1,inplace=True)"
      ],
      "metadata": {
        "id": "qkG9eeETlj9E"
      },
      "execution_count": null,
      "outputs": []
    },
    {
      "cell_type": "code",
      "source": [
        "X=df[[\"math score\",\"writing score\"]]"
      ],
      "metadata": {
        "id": "nTtyFH3blopr"
      },
      "execution_count": null,
      "outputs": []
    },
    {
      "cell_type": "code",
      "source": [
        "y=df[[\"gender\"]]"
      ],
      "metadata": {
        "id": "wqGAsgLjluDl"
      },
      "execution_count": null,
      "outputs": []
    },
    {
      "cell_type": "code",
      "source": [
        "X.head()"
      ],
      "metadata": {
        "id": "xeJtSfzbl10V"
      },
      "execution_count": null,
      "outputs": []
    },
    {
      "cell_type": "code",
      "source": [
        "y.head()"
      ],
      "metadata": {
        "id": "-EnxfIPhl5j0"
      },
      "execution_count": null,
      "outputs": []
    },
    {
      "cell_type": "code",
      "source": [
        "from sklearn.model_selection import train_test_split"
      ],
      "metadata": {
        "id": "iZpzEpPMmPF4"
      },
      "execution_count": null,
      "outputs": []
    },
    {
      "cell_type": "code",
      "source": [
        "x_train, x_test, y_train, y_test = train_test_split(X,y, test_size = 0.2, random_state = 0)"
      ],
      "metadata": {
        "id": "_cBFwO_STX_R"
      },
      "execution_count": null,
      "outputs": []
    },
    {
      "cell_type": "code",
      "source": [
        "print(x_train.shape,y_train.shape)"
      ],
      "metadata": {
        "id": "fcCghXIcn6oC"
      },
      "execution_count": null,
      "outputs": []
    },
    {
      "cell_type": "code",
      "source": [
        "print(X_test.shape,y_test.shape)"
      ],
      "metadata": {
        "id": "mk9MKBwXodBY"
      },
      "execution_count": null,
      "outputs": []
    },
    {
      "cell_type": "code",
      "source": [
        "from sklearn.preprocessing import StandardScaler"
      ],
      "metadata": {
        "id": "gIWd41zyohnN"
      },
      "execution_count": null,
      "outputs": []
    },
    {
      "cell_type": "code",
      "source": [
        "scaler = StandardScaler()"
      ],
      "metadata": {
        "id": "AxGxCtNUomNB"
      },
      "execution_count": null,
      "outputs": []
    },
    {
      "cell_type": "code",
      "source": [
        "X_train = scaler.fit_transform(X_train)\n",
        "X_test = scaler.fit_transform(X_test)"
      ],
      "metadata": {
        "id": "wIs5xBvborGX"
      },
      "execution_count": null,
      "outputs": []
    },
    {
      "cell_type": "code",
      "source": [
        "from sklearn.metrics import mean_squared_error,r2_score,accuracy_score"
      ],
      "metadata": {
        "id": "DXKp5bH3ovZC"
      },
      "execution_count": null,
      "outputs": []
    },
    {
      "cell_type": "code",
      "source": [
        "from sklearn.neighbors import KNeighborsClassifier"
      ],
      "metadata": {
        "id": "jJ0QxdCGo1AE"
      },
      "execution_count": null,
      "outputs": []
    },
    {
      "cell_type": "code",
      "source": [
        "knn_model=KNeighborsClassifier().fit(x_train,y_train)"
      ],
      "metadata": {
        "id": "vXA2B3ITo6xb"
      },
      "execution_count": null,
      "outputs": []
    },
    {
      "cell_type": "code",
      "source": [
        "np.sqrt(mean_squared_error(y_test,knn_model.predict(x_test)))"
      ],
      "metadata": {
        "id": "oK7yPo0EpBOZ"
      },
      "execution_count": null,
      "outputs": []
    },
    {
      "cell_type": "code",
      "source": [
        "r2_score(y_test,knn_model.predict(x_test))"
      ],
      "metadata": {
        "id": "eumK86lUpLEP"
      },
      "execution_count": null,
      "outputs": []
    },
    {
      "cell_type": "markdown",
      "source": [
        "Accuracy classification score.Ճշգրտության դասակարգման միավոր.\n",
        "\n",
        "Բազմապիտակային դասակարգման մեջ այս ֆունկցիան հաշվարկում է ենթաբազմության ճշգրտությունը. նմուշի համար կանխատեսվող պիտակների հավաքածուն պետք է ճշգրտորեն համապատասխանի y_true-ի համապատասխան պիտակների շարքին:"
      ],
      "metadata": {
        "id": "JAY6VammHQFF"
      }
    },
    {
      "cell_type": "code",
      "source": [
        "accuracy_score(y_test,knn_model.predict(x_test))"
      ],
      "metadata": {
        "id": "pcveoWZjpWex"
      },
      "execution_count": null,
      "outputs": []
    },
    {
      "cell_type": "code",
      "source": [
        "import matplotlib.pyplot as plt\n",
        "from matplotlib.colors import ListedColormap"
      ],
      "metadata": {
        "id": "EVu53Tf6pfJg"
      },
      "execution_count": null,
      "outputs": []
    },
    {
      "cell_type": "code",
      "source": [
        "from sklearn.neighbors import KNeighborsClassifier\n",
        "knn = KNeighborsClassifier(n_neighbors=5)\n",
        "knn.fit(X, y)\n",
        "y_pred = knn.predict(X)\n",
        "print(metrics.accuracy_score(y, y_pred))"
      ],
      "metadata": {
        "id": "SfNPUpF9xOR_"
      },
      "execution_count": null,
      "outputs": []
    },
    {
      "cell_type": "code",
      "source": [
        "X,Y=make_classification(n_samples= 200,n_features=8,n_informative=8,n_redundant=0,n_repeated=0,n_classes=2,random_state=14)\n",
        "X_train, X_test, y_train, y_test= train_test_split(X, Y, test_size= 0.2,random_state=32)\n",
        "sc= StandardScaler()\n",
        "sc.fit(X_train)\n",
        "X_train= sc.transform(X_train)\n",
        "sc.fit(X_test)\n",
        "X_test= sc.transform(X_test)\n",
        "X.shape"
      ],
      "metadata": {
        "id": "5SbyVVVV02Jm"
      },
      "execution_count": null,
      "outputs": []
    },
    {
      "cell_type": "code",
      "source": [
        "error1= []\n",
        "error2= []\n",
        "for k in range(1,20):\n",
        "    knn= KNeighborsClassifier(n_neighbors=k)\n",
        "    knn.fit(X_train,y_train)\n",
        "    y_pred1= knn.predict(X_train)\n",
        "    error1.append(np.mean(y_train!= y_pred1))\n",
        "    y_pred2= knn.predict(X_test)\n",
        "    error2.append(np.mean(y_test!= y_pred2))\n",
        "# plt.figure(figsize(10,5))\n",
        "plt.plot(range(1,20),error1,label=\"train\")\n",
        "plt.plot(range(1,20),error2,label=\"test\")\n",
        "plt.xlabel('k Value')\n",
        "plt.ylabel('Error')"
      ],
      "metadata": {
        "id": "0jh6DumsuMK1"
      },
      "execution_count": null,
      "outputs": []
    },
    {
      "cell_type": "code",
      "source": [
        "import plotly.graph_objects as go\n",
        "import numpy as np\n",
        "from sklearn.datasets import make_moons\n",
        "from sklearn.model_selection import train_test_split\n",
        "from sklearn.neighbors import KNeighborsClassifier\n",
        "\n",
        "mesh_size = .02\n",
        "margin = 0.25\n",
        "\n",
        "# Load and split data\n",
        "X, y = make_moons(noise=0.3, random_state=0)\n",
        "X_train, X_test, y_train, y_test = train_test_split(\n",
        "    X, y.astype(str), test_size=0.25, random_state=0)\n",
        "\n",
        "# Create a mesh grid on which we will run our model\n",
        "x_min, x_max = X[:, 0].min() - margin, X[:, 0].max() + margin\n",
        "y_min, y_max = X[:, 1].min() - margin, X[:, 1].max() + margin\n",
        "xrange = np.arange(x_min, x_max, mesh_size)\n",
        "yrange = np.arange(y_min, y_max, mesh_size)\n",
        "xx, yy = np.meshgrid(xrange, yrange)\n",
        "\n",
        "# Create classifier, run predictions on grid\n",
        "clf = KNeighborsClassifier(15, weights='uniform')\n",
        "clf.fit(X, y)\n",
        "Z = clf.predict_proba(np.c_[xx.ravel(), yy.ravel()])[:, 1]\n",
        "Z = Z.reshape(xx.shape)\n",
        "\n",
        "\n",
        "# Plot the figure\n",
        "fig = go.Figure(data=[\n",
        "    go.Contour(\n",
        "        x=xrange,\n",
        "        y=yrange,\n",
        "        z=Z,\n",
        "        colorscale='RdBu'\n",
        "    )\n",
        "])\n",
        "fig.show()"
      ],
      "metadata": {
        "id": "g8lZTzxr7ySP"
      },
      "execution_count": null,
      "outputs": []
    },
    {
      "cell_type": "code",
      "source": [
        "import matplotlib.pyplot as plt\n",
        "from matplotlib.colors import ListedColormap"
      ],
      "metadata": {
        "id": "uK0ON45PCP30"
      },
      "execution_count": null,
      "outputs": []
    },
    {
      "cell_type": "code",
      "source": [
        "plt.figure(figsize=(16,8))\n",
        "X_set, y_set = X_test, y_test\n",
        "X1, X2 = np.meshgrid(np.arange(start = X_set[:, 0].min() - 1, stop = X_set[:, 0].max() + 1, step = 0.01),\n",
        "                     np.arange(start = X_set[:, 1].min() - 1, stop = X_set[:, 1].max() + 1, step = 0.01))\n",
        "plt.contourf(X1, X2, knn_model.predict(np.array([X1.ravel(), X2.ravel()]).T).reshape(X1.shape),\n",
        "             alpha = 0.6, cmap = ListedColormap(('red', 'green')))\n",
        "plt.xlim(X1.min(), X1.max())\n",
        "plt.ylim(X2.min(), X2.max())\n",
        "for i, j in enumerate(np.unique(y_set)):\n",
        "     plt.scatter(X_set[y_set == j, 0], X_set[y_set == j, 1],\n",
        "                 c = ListedColormap(('red', 'green'))(i), label = j)\n",
        "font={\"fontsize\":15}\n",
        "plt.title('KNN Test Seti',fontdict=font)\n",
        "plt.xlabel('Math + Writing Score',fontdict=font)\n",
        "plt.ylabel('Gender (Female=1,Male=0)',fontdict=font)\n",
        "plt.legend(loc=2)\n",
        "plt.show();"
      ],
      "metadata": {
        "id": "WGiDW9fXBROE"
      },
      "execution_count": null,
      "outputs": []
    },
    {
      "cell_type": "markdown",
      "source": [
        "6.28888888888888888888"
      ],
      "metadata": {
        "id": "4m8GZWSy_r4D"
      }
    },
    {
      "cell_type": "code",
      "source": [
        "import matplotlib.pyplot as plt\n",
        "x=[12,34,56,78]\n",
        "y=[23,45,67,88]\n",
        "classes=[0,0,1,1]\n",
        "\n",
        "markers = 'v'\n",
        "plt.scatter(x,y, c = classes,marker=markers)\n",
        "plt.show()"
      ],
      "metadata": {
        "id": "VJkDca_q_uqK"
      },
      "execution_count": null,
      "outputs": []
    },
    {
      "cell_type": "code",
      "source": [
        "from sklearn.neighbors import KNeighborsClassifier\n",
        "data = list(zip(x,y))\n",
        "print(data)\n",
        "print(type(data))\n",
        "knn = KNeighborsClassifier(n_neighbors=1)\n",
        "knn.fit(data,classes)"
      ],
      "metadata": {
        "id": "6Cj3D4tpaJo7"
      },
      "execution_count": null,
      "outputs": []
    },
    {
      "cell_type": "code",
      "source": [
        "new_x=14\n",
        "new_y=30\n",
        "new_p=[(new_x,new_y)]\n",
        "prediction = knn.predict(new_p)\n",
        "print(prediction)\n",
        "plt.scatter(x+[new_x],y+[new_y], c = classes+[prediction[0]],marker=markers)\n",
        "plt.text(x=new_x-1.7, y=new_y-0.7, s=f\"new point, class: {prediction[0]}\")\n",
        "plt.show()"
      ],
      "metadata": {
        "id": "cHw3LGGXaOGk"
      },
      "execution_count": null,
      "outputs": []
    },
    {
      "cell_type": "markdown",
      "source": [
        "*KNN-5. With make_blobs dataset * https://www.journaldev.com/57111/k-nearest-neighbors-knn-in-python\n"
      ],
      "metadata": {
        "id": "Jfv1vRrmawYI"
      }
    },
    {
      "cell_type": "code",
      "source": [
        "import numpy as np\n",
        "import matplotlib.pyplot as plt\n",
        "from sklearn.neighbors import KNeighborsClassifier\n",
        "from sklearn.datasets import make_blobs\n",
        "from sklearn.model_selection import train_test_split\n",
        "from sklearn import metrics"
      ],
      "metadata": {
        "id": "Zz__vQDxayQ1"
      },
      "execution_count": null,
      "outputs": []
    },
    {
      "cell_type": "code",
      "source": [
        "x,y = make_blobs(n_samples=50,n_features=2,centers=4,cluster_std=1.5,random_state=4)\n",
        "#print(x)\n",
        "#print(y)\n",
        "plt.scatter(x[:,0],x[:,1], c=y, marker=\"*\")\n",
        "plt.show()"
      ],
      "metadata": {
        "id": "MIE0cALYa2nO"
      },
      "execution_count": null,
      "outputs": []
    },
    {
      "cell_type": "code",
      "source": [
        "X_train, X_test, y_train, y_test = train_test_split(x, y, random_state = 0)\n",
        "knn5=KNeighborsClassifier(n_neighbors=5).fit(X_train,y_train)\n",
        "knn1=KNeighborsClassifier(n_neighbors=1).fit(X_train,y_train)\n",
        "y_pred5=knn5.predict(X_test)\n",
        "y_pred1=knn1.predict(X_test)\n",
        "plt.scatter(X_train[:,0],X_train[:,1], c=y_train, marker=\"*\")\n",
        "plt.show()"
      ],
      "metadata": {
        "id": "ekzzOhr9a-V3"
      },
      "execution_count": null,
      "outputs": []
    },
    {
      "cell_type": "code",
      "source": [
        "print(\"Model accuracy \",metrics.accuracy_score(y_test,y_pred5))\n",
        "print(\"Model accuracy \",metrics.accuracy_score(y_test,y_pred1))\n"
      ],
      "metadata": {
        "id": "ffMCYKnhbHPB"
      },
      "execution_count": null,
      "outputs": []
    }
  ]
}